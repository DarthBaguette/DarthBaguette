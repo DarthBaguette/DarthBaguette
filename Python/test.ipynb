{
 "cells": [
  {
   "cell_type": "code",
   "execution_count": null,
   "metadata": {},
   "outputs": [],
   "source": [
    "from numpy import *\n",
    "\n",
    "o = 5.6696e-8\n",
    "r = 2.00e-2\n",
    "ep = 0.8\n",
    "T = 500 + 273.15\n",
    "T0 = 24 + 273.15\n",
    "\n",
    "P = pi * o * r**2 * ep * (T**4 - T0**4)\n",
    "print(f\"Power: {P} W\")\n"
   ]
  }
 ],
 "metadata": {
  "language_info": {
   "name": "python"
  },
  "orig_nbformat": 4
 },
 "nbformat": 4,
 "nbformat_minor": 2
}

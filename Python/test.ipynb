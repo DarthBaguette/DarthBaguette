{
 "cells": [
  {
   "cell_type": "code",
   "execution_count": null,
   "metadata": {},
   "outputs": [],
   "source": [
    "from sympy import *"
   ]
  },
  {
   "cell_type": "code",
   "execution_count": 1,
   "metadata": {},
   "outputs": [
    {
     "name": "stdout",
     "output_type": "stream",
     "text": [
      "pi/3\n"
     ]
    }
   ],
   "source": [
    "from sympy import *\n",
    "\n",
    "rho, theta, phi = symbols('rho theta phi')\n",
    "\n",
    "f = rho**2 * sin(phi)\n",
    "\n",
    "res = integrate(f, (rho, 0, 2*cos(phi)), (phi, pi/4, pi/2), (theta, 0, 2*pi))\n",
    "print(res)\n"
   ]
  }
 ],
 "metadata": {
  "kernelspec": {
   "display_name": "Python 3.10.3 64-bit",
   "language": "python",
   "name": "python3"
  },
  "language_info": {
   "codemirror_mode": {
    "name": "ipython",
    "version": 3
   },
   "file_extension": ".py",
   "mimetype": "text/x-python",
   "name": "python",
   "nbconvert_exporter": "python",
   "pygments_lexer": "ipython3",
   "version": "3.10.3"
  },
  "orig_nbformat": 4,
  "vscode": {
   "interpreter": {
    "hash": "6d0aaa2ea803c1613c3e1ea8f36c16c34dfc68cb644bd26bfb67721de081658e"
   }
  }
 },
 "nbformat": 4,
 "nbformat_minor": 2
}
